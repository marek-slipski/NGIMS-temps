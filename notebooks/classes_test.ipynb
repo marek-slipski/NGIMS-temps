{
 "cells": [
  {
   "cell_type": "code",
   "execution_count": 9,
   "metadata": {},
   "outputs": [],
   "source": [
    "import pandas as pd\n",
    "import numpy as np\n",
    "import matplotlib.pyplot as plt\n",
    "import argparse\n",
    "import sys"
   ]
  },
  {
   "cell_type": "code",
   "execution_count": 10,
   "metadata": {},
   "outputs": [],
   "source": [
    "class temp_info():\n",
    "    '''\n",
    "    Class to store information about temperature data\n",
    "    from different databases to easily interact with.\n",
    "    '''\n",
    "    def __init__(self,database):\n",
    "        '''\n",
    "        Initialize class details\n",
    "        \n",
    "        Parameters\n",
    "        ----------\n",
    "        database: str ['MCS','NGIMS_s2','EUVM'], temperature database\n",
    "        '''\n",
    "        self.db = database\n",
    "        self.cols = setup_cols\n",
    "    \n",
    "    def setup_cols(self):\n",
    "        col_convers = {} # initialzie column name conversions\n",
    "        if self.inst == 'NGIMS_s2':\n",
    "            col_convers['temp'] = 'tmp_Ar'\n",
    "            col_convers['alt'] = 'alt_Ar'\n",
    "            col_convers['lon'] = 'lon_Ar'\n",
    "            col_convers['lst'] = 'ltm_Ar'\n",
    "            col_convers['lat'] = 'lat_Ar'\n",
    "            col_convers['Ls'] = 'lsubs_Ar'\n",
    "            col_convers['sza'] = 'sza_Ar'\n",
    "        return col_convers"
   ]
  },
  {
   "cell_type": "code",
   "execution_count": 11,
   "metadata": {},
   "outputs": [],
   "source": [
    "class plot_names():\n",
    "    '''\n",
    "    Class to store axis labels, etc.\n",
    "    to avoid writing out in multiple scripts\n",
    "    '''\n",
    "    axis_labels = {}\n",
    "    axis_labels['lon'] = r'Longitude ($^{\\circ}$)'\n",
    "    axis_labels['lst'] = 'Local Solar Time (hr/24)'\n",
    "    axis_labels['lat'] = r'Latitude ($^{\\circ}$)'\n",
    "    axis_labels['Ls'] = r'$L_s$ ($^{\\circ}$)'\n",
    "    axis_labels['sza'] = r'Solar Zenith Angle ($^{\\circ}$)'\n",
    "    \n",
    "    #def __init__(self):\n",
    "        \n",
    "        "
   ]
  },
  {
   "cell_type": "code",
   "execution_count": 12,
   "metadata": {},
   "outputs": [],
   "source": [
    "a = plot_names()"
   ]
  },
  {
   "cell_type": "code",
   "execution_count": 19,
   "metadata": {},
   "outputs": [],
   "source": [
    "b = pd.read_csv('../all.csv')"
   ]
  },
  {
   "cell_type": "code",
   "execution_count": 20,
   "metadata": {},
   "outputs": [
    {
     "data": {
      "text/plain": [
       "Index([u'Unnamed: 0', u'alt_tp_Ar', u'bgcounts_tp_Ar', u'bgcpsdt_tp_Ar',\n",
       "       u'counts_tp_Ar', u'countsbg_tp_Ar', u'cps_tp_Ar', u'cpsdt_tp_Ar',\n",
       "       u'cpsdtbg_tp_Ar', u'den_tp_Ar', u'errIn_tp_Ar', u'err_prs_Ar',\n",
       "       u'err_tmp_Ar', u'err_tp_Ar', u'focus_mode_tp_Ar', u'j2000_tp_Ar',\n",
       "       u'lat_tp_Ar', u'lon_tp_Ar', u'lsubs_tp_Ar', u'ltm_tp_Ar', u'mass_tp_Ar',\n",
       "       u'prs_Ar', u'ram_tp_Ar', u'rf_tp_Ar', u'sclk_tp_Ar',\n",
       "       u'sct_counts_tp_Ar', u'sct_cps_tp_Ar', u'sundist_tp_Ar',\n",
       "       u'sunlat_tp_Ar', u'sunlon_tp_Ar', u'sza_tp_Ar', u'tca_tp_Ar', u'tmp_Ar',\n",
       "       u'tmpatm_tp_Ar', u'tmpsc_tp_Ar', u'utc_tp_Ar', u'vsc_tp_Ar',\n",
       "       u'vx_tp_Ar', u'vy_tp_Ar', u'vz_tp_Ar', u'x_tp_Ar', u'y_tp_Ar',\n",
       "       u'z_tp_Ar', u'alt_Ar', u'bgcounts_Ar', u'bgcpsdt_Ar', u'counts_Ar',\n",
       "       u'countsbg_Ar', u'cps_Ar', u'cpsdt_Ar', u'cpsdtbg_Ar', u'den_Ar',\n",
       "       u'err_Ar', u'focus_mode_Ar', u'fv_corr_Ar', u'j2000_Ar', u'lat_Ar',\n",
       "       u'lon_Ar', u'lsubs_Ar', u'ltm_Ar', u'mass_Ar', u'ram_Ar',\n",
       "       u'ram_corr_Ar', u'rand_unc_Ar', u'rf_Ar', u'sclk_Ar', u'sct_counts_Ar',\n",
       "       u'sct_cps_Ar', u'sundist_Ar', u'sunlat_Ar', u'sunlon_Ar', u'sza_Ar',\n",
       "       u'tca_Ar', u'tmpatm_Ar', u'tmpsc_Ar', u'utc_Ar', u'vsc_Ar', u'vx_Ar',\n",
       "       u'vy_Ar', u'vz_Ar', u'x_Ar', u'y_Ar', u'z_Ar', u'orbit', u'peri_lon'],\n",
       "      dtype='object')"
      ]
     },
     "execution_count": 20,
     "metadata": {},
     "output_type": "execute_result"
    }
   ],
   "source": [
    "pd.DataFrame()"
   ]
  },
  {
   "cell_type": "code",
   "execution_count": null,
   "metadata": {},
   "outputs": [],
   "source": []
  }
 ],
 "metadata": {
  "kernelspec": {
   "display_name": "env",
   "language": "python",
   "name": "env"
  },
  "language_info": {
   "codemirror_mode": {
    "name": "ipython",
    "version": 2
   },
   "file_extension": ".py",
   "mimetype": "text/x-python",
   "name": "python",
   "nbconvert_exporter": "python",
   "pygments_lexer": "ipython2",
   "version": "2.7.6"
  }
 },
 "nbformat": 4,
 "nbformat_minor": 2
}
